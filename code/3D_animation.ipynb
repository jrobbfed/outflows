{
 "cells": [
  {
   "cell_type": "code",
   "execution_count": 87,
   "metadata": {},
   "outputs": [
    {
     "data": {
      "image/png": "[encoded data removed]",
      "text/plain": [
       "<Figure size 432x288 with 180 Axes>"
      ]
     },
     "metadata": {
      "needs_background": "light"
     },
     "output_type": "display_data"
    }
   ],
   "source": [
    "import matplotlib.pyplot as plt\n",
    "from mpl_toolkits.mplot3d import Axes3D\n",
    "fig = plt.figure()\n",
    "\n",
    "\n",
    "\n",
    "for angle in range(90,450,2):\n",
    "    ax = fig.add_subplot(111, projection='3d')\n",
    "    ax.plot((0,0),(0,0),(0,1))\n",
    "    ax.plot((0,0),(0,1),(0,0))\n",
    "    ax.view_init(30,angle)\n",
    "    ax.set_axis_off()\n",
    "    \n",
    "    ax.set_proj_type('ortho')\n",
    "    ax.set_ylim(0,1)\n",
    "    ax.set_xlim(-0.5,0.5)\n",
    "    ax.set_zlim(0,1)\n",
    "#     plt.gca().set_aspect('equal')\n",
    "    # Save it\n",
    "    filename='ANIMATION/angle'+str(angle)+'.png'\n",
    "    plt.savefig(filename, dpi=96)\n",
    "plt.show()"
   ]
  },
  {
   "cell_type": "code",
   "execution_count": 85,
   "metadata": {},
   "outputs": [
    {
     "data": {
      "image/png": "[encoded data removed]",
      "text/plain": [
       "<Figure size 432x288 with 1 Axes>"
      ]
     },
     "metadata": {
      "needs_background": "light"
     },
     "output_type": "display_data"
    }
   ],
   "source": [
    "plt.plot((0,0.5**0.5), (0,0.5**0.5))\n",
    "plt.plot((0,0),(0,1))\n",
    "plt.xlim(-0.1,1.1)\n",
    "plt.gca().set_aspect('equal')"
   ]
  },
  {
   "cell_type": "code",
   "execution_count": null,
   "metadata": {},
   "outputs": [],
   "source": [
    "0.5+0.5"
   ]
  }
 ],
 "metadata": {
  "kernelspec": {
   "display_name": "Python 3",
   "language": "python",
   "name": "python3"
  },
  "language_info": {
   "codemirror_mode": {
    "name": "ipython",
    "version": 3
   },
   "file_extension": ".py",
   "mimetype": "text/x-python",
   "name": "python",
   "nbconvert_exporter": "python",
   "pygments_lexer": "ipython3",
   "version": "3.7.1"
  }
 },
 "nbformat": 4,
 "nbformat_minor": 4
}
