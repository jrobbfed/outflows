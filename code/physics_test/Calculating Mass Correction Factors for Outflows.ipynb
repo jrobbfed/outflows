{
 "cells": [
  {
   "cell_type": "code",
   "execution_count": null,
   "metadata": {},
   "outputs": [],
   "source": []
  },
  {
   "cell_type": "code",
   "execution_count": 1,
   "metadata": {},
   "outputs": [],
   "source": [
    "import warnings\n",
    "warnings.filterwarnings('ignore')\n",
    "import sys\n",
    "sys.path.insert(0, \"..\")\n",
    "from stamp import *\n",
    "from physics_dist414pc import *\n",
    "# from physics import *\n",
    "from astropy.stats import sigma_clipped_stats\n",
    "import re\n",
    "import os\n",
    "%load_ext autoreload\n",
    "%autoreload 2\n",
    "\n",
    "matplotlib.style.use('paper')\n",
    "\n",
    "physics_table_name = \"physics_table_dist414pc.txt\"\n",
    "\n",
    "table_outflow = Table.read(\"../outflow_hops.csv\", comment='#')\n",
    "table_outflow_davis = Table.read(\"../outflow_davisnohops.csv\", comment='#')\n",
    "table_hops = Table.read(\"../../catalogs/hops.fits\")\n",
    "table_davis = Table.read(\"../../catalogs/davis09_jets_without_hops.txt\", format='ascii.tab')\n",
    "outflow_def = table_outflow[table_outflow['outflow'] == '1']\n",
    "outflow_may = table_outflow[table_outflow['outflow'] == '?']\n",
    "outflow_hops = table_outflow[(table_outflow['outflow'] == '1') | (table_outflow['outflow'] == '?')]\n",
    "outflow_davis = table_outflow_davis[(table_outflow_davis['outflow'] == '1') | (table_outflow_davis['outflow'] == '?')]\n",
    "\n",
    "c12 = SpectralCube.read(\"../../cubes/mask_imfit_12co_pix_2_Tmb.fits\")\n",
    "c13 = SpectralCube.read(\"../../cubes/mask_imfit_13co_pix_2_Tmb_regrid12co.fits\")\n",
    "c18 = SpectralCube.read(\"../../cubes/mask_imfit_c18o_pix_2_Tmb.fits\")\n",
    "\n",
    "\n",
    "\n",
    "\n"
   ]
  },
  {
   "cell_type": "code",
   "execution_count": 2,
   "metadata": {},
   "outputs": [],
   "source": [
    "physics_table = Table( \n",
    "    names=[\"Source\", \"Confidence\", \"Lobe\", \"PA\", \"e_PA\", \"OA\", \"e_OA\",\n",
    "           \"RAJ2000\", \"DEJ2000\", \"M_lowvel\", \"M_hivel\", \"P_lowvel\",\n",
    "           \"P_hivel\", \"E_lowvel\", \"E_hivel\",\n",
    "           \"vmax\", \"rmax\", \"tdyn\",\n",
    "           \"Mdot_lowvel\", \"Mdot_hivel\",\n",
    "           \"Pdot_lowvel\", \"Pdot_hivel\",\n",
    "           \"Edot_lowvel\", \"Edot_hivel\"], \n",
    "    dtype=[\"S10\", \"S1\", \"S10\", \"f8\", \"f8\", \"f8\", \"f8\",\n",
    "           \"f8\", \"f8\", \"f8\", \"f8\", \"f8\",\n",
    "           \"f8\", \"f8\", \"f8\",\n",
    "           \"f8\", \"f8\", \"f8\",\n",
    "           \"f8\", \"f8\",\n",
    "           \"f8\", \"f8\",\n",
    "           \"f8\", \"f8\"]) \n",
    "\n",
    "physics_table[\"RAJ2000\"].unit = u.deg\n",
    "physics_table[\"DEJ2000\"].unit = u.deg\n",
    "\n",
    "physics_table[\"PA\"].unit = u.deg\n",
    "physics_table[\"e_PA\"].unit = u.deg\n",
    "physics_table[\"OA\"].unit = u.deg\n",
    "physics_table[\"e_OA\"].unit = u.deg\n",
    "\n",
    "physics_table[\"M_lowvel\"].unit = u.Msun\n",
    "physics_table[\"M_hivel\"].unit = u.Msun\n",
    "physics_table[\"P_lowvel\"].unit = u.Msun/(u.km/u.s)\n",
    "physics_table[\"P_hivel\"].unit = u.Msun/(u.km/u.s)\n",
    "physics_table[\"E_lowvel\"].unit = u.erg\n",
    "physics_table[\"E_hivel\"].unit = u.erg\n",
    "\n",
    "physics_table[\"vmax\"].unit = u.km/u.s\n",
    "physics_table[\"rmax\"].unit = u.pc\n",
    "physics_table[\"tdyn\"].unit = u.yr\n",
    "\n",
    "physics_table[\"Mdot_lowvel\"].unit = u.Msun/u.yr\n",
    "physics_table[\"Mdot_hivel\"].unit = u.Msun/u.yr\n",
    "physics_table[\"Pdot_lowvel\"].unit = (u.Msun/(u.km/u.s))/u.yr\n",
    "physics_table[\"Pdot_hivel\"].unit = (u.Msun/(u.km/u.s))/u.yr\n",
    "physics_table[\"Edot_lowvel\"].unit = u.erg/u.s\n",
    "physics_table[\"Edot_hivel\"].unit = u.erg/u.s"
   ]
  },
  {
   "cell_type": "code",
   "execution_count": 17,
   "metadata": {},
   "outputs": [
    {
     "name": "stdout",
     "output_type": "stream",
     "text": [
      "7.528555538001431 km / s 13.720211831898501 km / s\n",
      "1.0302046537399292 K 0.46668294072151184 K\n",
      "75.253981660121 K\n",
      "davis 11\n",
      "3.0 km / s 18.0 km / s\n",
      "1.1467885971069336 K 0.47432810068130493 K\n",
      "97.69631415917064 K\n",
      "davis 17\n",
      "8.0 km / s 14.0 km / s\n",
      "1.0642668008804321 K 0.4479545056819916 K\n",
      "108.29685904002676 K\n",
      "davis 21\n",
      "4.5 km / s 14.0 km / s\n",
      "1.0140188932418823 K 0.4710104465484619 K\n",
      "75.52404595852978 K\n",
      "davis 30\n",
      "4.5 km / s 11.5 km / s\n",
      "0.8981247544288635 K 0.42164382338523865 K\n",
      "50.16286971422975 K\n",
      "davis 50\n",
      "5.150106963345423 km / s 12.643003341859197 km / s\n",
      "0.7722852826118469 K 0.3238241374492645 K\n",
      "46.0349881809543 K\n",
      "hops 10\n",
      "4.656766783228081 km / s 12.841272383441655 km / s\n",
      "0.7859107851982117 K 0.3360837399959564 K\n",
      "53.61579705152572 K\n",
      "hops 11\n",
      "4.7299066016254745 km / s 12.486596600305091 km / s\n",
      "0.9047529101371765 K 0.40177300572395325 K\n",
      "50.5339930130931 K\n",
      "hops 12\n",
      "4.4 km / s 12.0 km / s\n",
      "0.9900668859481812 K 0.48364394903182983 K\n",
      "83.82798585086923 K\n",
      "hops 44\n",
      "5.8 km / s 13.0 km / s\n",
      "1.2151966094970703 K 0.511070191860199 K\n",
      "46.92916584163572 K\n",
      "hops 50\n",
      "6.0 km / s 14.0 km / s\n",
      "1.1053439378738403 K 0.5445637106895447 K\n",
      "98.48196075857634 K\n",
      "hops 56\n",
      "6.9 km / s 14.0 km / s\n",
      "1.0701662302017212 K 0.48641538619995117 K\n",
      "106.0905744464569 K\n",
      "hops 58\n",
      "6.9 km / s 13.6 km / s\n",
      "1.0962591171264648 K 0.5100606679916382 K\n",
      "84.98761076994559 K\n",
      "hops 59\n",
      "7.0 km / s 14.2 km / s\n",
      "1.0234801769256592 K 0.4346776008605957 K\n",
      "96.8920052530807 K\n",
      "hops 60\n",
      "7.8 km / s 14.5 km / s\n",
      "1.0683006048202515 K 0.48752719163894653 K\n",
      "99.6127171016378 K\n",
      "hops 68\n",
      "7.5 km / s 14.0 km / s\n",
      "1.0391663312911987 K 0.4700022339820862 K\n",
      "89.03857343634533 K\n",
      "hops 70\n",
      "7.5 km / s 14.5 km / s\n",
      "1.0348091125488281 K 0.46430736780166626 K\n",
      "75.96667873376774 K\n",
      "hops 71\n",
      "7.3 km / s 14.3 km / s\n",
      "1.0150761604309082 K 0.47510281205177307 K\n",
      "74.53001999184391 K\n",
      "hops 75\n",
      "6.0 km / s 15.0 km / s\n",
      "0.9790573120117188 K 0.45546168088912964 K\n",
      "69.06881346100762 K\n",
      "hops 78\n",
      "7.5 km / s 13.5 km / s\n",
      "1.0243372917175293 K 0.49061182141304016 K\n",
      "69.51542341825883 K\n",
      "hops 81\n",
      "8.5 km / s 13.8 km / s\n",
      "1.0197230577468872 K 0.4874820113182068 K\n",
      "64.07555985513099 K\n",
      "hops 84\n",
      "8.6 km / s 13.8 km / s\n",
      "0.9719162583351135 K 0.4667067527770996 K\n",
      "61.52268641125791 K\n",
      "hops 87\n",
      "8.141134553465575 km / s 13.79249141426264 km / s\n",
      "0.9692450761795044 K 0.4632093608379364 K\n",
      "65.12223843735408 K\n",
      "hops 88\n",
      "7.602925449064842 km / s 13.703431140147611 km / s\n",
      "0.9769100546836853 K 0.48704519867897034 K\n",
      "67.40118333989082 K\n",
      "hops 92\n",
      "9.846659633934136 km / s 13.885873671902699 km / s\n",
      "0.9508249163627625 K 0.48602718114852905 K\n",
      "66.93535557070237 K\n",
      "hops 96\n",
      "8.3 km / s 13.0 km / s\n",
      "0.9139730334281921 K 0.46693819761276245 K\n",
      "55.442443105129186 K\n",
      "hops 99\n",
      "[0.  3.5] km / s [ 9. 13.] km / s\n",
      "0.9645108580589294 K 0.42836734652519226 K\n",
      "42.44604067113914 K\n",
      "hops 157\n",
      "5.0 km / s 9.5 km / s\n",
      "0.8720569610595703 K 0.4845806956291199 K\n",
      "41.28660310244299 K\n",
      "hops 158\n",
      "[2.  4.7] km / s [10. 13.] km / s\n",
      "1.0167285203933716 K 0.413181334733963 K\n",
      "30.25442298184463 K\n",
      "hops 160\n",
      "5.5 km / s 11.5 km / s\n",
      "0.8445650935173035 K 0.3864295482635498 K\n",
      "52.381439384693465 K\n",
      "hops 166\n",
      "4.8634176385422965 km / s 12.12841866585599 km / s\n",
      "0.9069778323173523 K 0.3950641453266144 K\n",
      "36.64241238780814 K\n",
      "hops 168\n",
      "4.7 km / s 10.0 km / s\n",
      "0.8233642578125 K 0.37195998430252075 K\n",
      "43.639984617214616 K\n",
      "hops 169\n",
      "4.0 km / s 12.0 km / s\n",
      "0.9485133290290833 K 0.4141334891319275 K\n",
      "41.15050818606839 K\n",
      "hops 174\n",
      "5.5 km / s 10.3 km / s\n",
      "0.8476858735084534 K 0.37116023898124695 K\n",
      "54.65455700471611 K\n",
      "hops 177\n",
      "4.3 km / s 12.0 km / s\n",
      "0.9247841238975525 K 0.4093695878982544 K\n",
      "44.97402134629202 K\n",
      "hops 178\n",
      "4.5 km / s 11.9 km / s\n",
      "0.8650819063186646 K 0.3913356363773346 K\n",
      "51.64538720879916 K\n",
      "hops 179\n",
      "4.0 km / s 12.0 km / s\n",
      "0.8603244423866272 K 0.3732456564903259 K\n",
      "46.468793176022146 K\n",
      "hops 181\n",
      "4.0 km / s 11.7 km / s\n",
      "0.8731095194816589 K 0.39345964789390564 K\n",
      "54.06360493992636 K\n",
      "hops 182\n",
      "7.5 km / s 10.0 km / s\n",
      "0.7859857678413391 K 0.34418150782585144 K\n",
      "54.39605000749202 K\n",
      "hops 192\n",
      "5.0 km / s 10.0 km / s\n",
      "0.7547263503074646 K 0.3206917941570282 K\n",
      "36.14285220962986 K\n",
      "hops 198\n",
      "5.2 km / s 11.7 km / s\n",
      "0.8018805980682373 K 0.3849526643753052 K\n",
      "41.72954132989851 K\n",
      "hops 203\n",
      "4.3 km / s 10.5 km / s\n",
      "0.8875696659088135 K 0.4080658257007599 K\n",
      "30.553320374390218 K\n",
      "hops 355\n",
      "7.0 km / s 14.0 km / s\n",
      "1.0540701150894165 K 0.4486325681209564 K\n",
      "93.63402543068138 K\n",
      "hops 368\n",
      "5.0 km / s 17.0 km / s\n",
      "1.0961439609527588 K 0.48366135358810425 K\n",
      "103.93667248601281 K\n",
      "hops 370\n",
      "9.584677696840538 km / s 13.666666566830477 km / s\n",
      "0.9566079378128052 K 0.4739648699760437 K\n",
      "67.89030147434859 K\n",
      "hops 383\n"
     ]
    },
    {
     "data": {
      "text/plain": [
       "<Figure size 432x288 with 0 Axes>"
      ]
     },
     "metadata": {},
     "output_type": "display_data"
    },
    {
     "data": {
      "text/plain": [
       "<Figure size 432x288 with 0 Axes>"
      ]
     },
     "metadata": {},
     "output_type": "display_data"
    },
    {
     "data": {
      "text/plain": [
       "<Figure size 432x288 with 0 Axes>"
      ]
     },
     "metadata": {},
     "output_type": "display_data"
    },
    {
     "data": {
      "text/plain": [
       "<Figure size 432x288 with 0 Axes>"
      ]
     },
     "metadata": {},
     "output_type": "display_data"
    },
    {
     "data": {
      "text/plain": [
       "<Figure size 432x288 with 0 Axes>"
      ]
     },
     "metadata": {},
     "output_type": "display_data"
    },
    {
     "data": {
      "text/plain": [
       "<Figure size 432x288 with 0 Axes>"
      ]
     },
     "metadata": {},
     "output_type": "display_data"
    },
    {
     "data": {
      "text/plain": [
       "<Figure size 432x288 with 0 Axes>"
      ]
     },
     "metadata": {},
     "output_type": "display_data"
    },
    {
     "data": {
      "text/plain": [
       "<Figure size 432x288 with 0 Axes>"
      ]
     },
     "metadata": {},
     "output_type": "display_data"
    },
    {
     "data": {
      "text/plain": [
       "<Figure size 432x288 with 0 Axes>"
      ]
     },
     "metadata": {},
     "output_type": "display_data"
    },
    {
     "data": {
      "text/plain": [
       "<Figure size 432x288 with 0 Axes>"
      ]
     },
     "metadata": {},
     "output_type": "display_data"
    },
    {
     "data": {
      "text/plain": [
       "<Figure size 432x288 with 0 Axes>"
      ]
     },
     "metadata": {},
     "output_type": "display_data"
    },
    {
     "data": {
      "text/plain": [
       "<Figure size 432x288 with 0 Axes>"
      ]
     },
     "metadata": {},
     "output_type": "display_data"
    },
    {
     "data": {
      "text/plain": [
       "<Figure size 432x288 with 0 Axes>"
      ]
     },
     "metadata": {},
     "output_type": "display_data"
    },
    {
     "data": {
      "text/plain": [
       "<Figure size 432x288 with 0 Axes>"
      ]
     },
     "metadata": {},
     "output_type": "display_data"
    },
    {
     "data": {
      "text/plain": [
       "<Figure size 432x288 with 0 Axes>"
      ]
     },
     "metadata": {},
     "output_type": "display_data"
    },
    {
     "data": {
      "text/plain": [
       "<Figure size 432x288 with 0 Axes>"
      ]
     },
     "metadata": {},
     "output_type": "display_data"
    },
    {
     "data": {
      "text/plain": [
       "<Figure size 432x288 with 0 Axes>"
      ]
     },
     "metadata": {},
     "output_type": "display_data"
    },
    {
     "data": {
      "text/plain": [
       "<Figure size 432x288 with 0 Axes>"
      ]
     },
     "metadata": {},
     "output_type": "display_data"
    },
    {
     "data": {
      "text/plain": [
       "<Figure size 432x288 with 0 Axes>"
      ]
     },
     "metadata": {},
     "output_type": "display_data"
    },
    {
     "data": {
      "text/plain": [
       "<Figure size 432x288 with 0 Axes>"
      ]
     },
     "metadata": {},
     "output_type": "display_data"
    },
    {
     "data": {
      "text/plain": [
       "<Figure size 432x288 with 0 Axes>"
      ]
     },
     "metadata": {},
     "output_type": "display_data"
    },
    {
     "data": {
      "text/plain": [
       "<Figure size 432x288 with 0 Axes>"
      ]
     },
     "metadata": {},
     "output_type": "display_data"
    },
    {
     "data": {
      "text/plain": [
       "<Figure size 432x288 with 0 Axes>"
      ]
     },
     "metadata": {},
     "output_type": "display_data"
    },
    {
     "data": {
      "text/plain": [
       "<Figure size 432x288 with 0 Axes>"
      ]
     },
     "metadata": {},
     "output_type": "display_data"
    },
    {
     "data": {
      "text/plain": [
       "<Figure size 432x288 with 0 Axes>"
      ]
     },
     "metadata": {},
     "output_type": "display_data"
    },
    {
     "data": {
      "text/plain": [
       "<Figure size 432x288 with 0 Axes>"
      ]
     },
     "metadata": {},
     "output_type": "display_data"
    },
    {
     "data": {
      "text/plain": [
       "<Figure size 432x288 with 0 Axes>"
      ]
     },
     "metadata": {},
     "output_type": "display_data"
    },
    {
     "data": {
      "text/plain": [
       "<Figure size 432x288 with 0 Axes>"
      ]
     },
     "metadata": {},
     "output_type": "display_data"
    },
    {
     "data": {
      "text/plain": [
       "<Figure size 432x288 with 0 Axes>"
      ]
     },
     "metadata": {},
     "output_type": "display_data"
    },
    {
     "data": {
      "text/plain": [
       "<Figure size 432x288 with 0 Axes>"
      ]
     },
     "metadata": {},
     "output_type": "display_data"
    },
    {
     "data": {
      "text/plain": [
       "<Figure size 432x288 with 0 Axes>"
      ]
     },
     "metadata": {},
     "output_type": "display_data"
    },
    {
     "data": {
      "text/plain": [
       "<Figure size 432x288 with 0 Axes>"
      ]
     },
     "metadata": {},
     "output_type": "display_data"
    },
    {
     "data": {
      "text/plain": [
       "<Figure size 432x288 with 0 Axes>"
      ]
     },
     "metadata": {},
     "output_type": "display_data"
    },
    {
     "data": {
      "text/plain": [
       "<Figure size 432x288 with 0 Axes>"
      ]
     },
     "metadata": {},
     "output_type": "display_data"
    },
    {
     "data": {
      "text/plain": [
       "<Figure size 432x288 with 0 Axes>"
      ]
     },
     "metadata": {},
     "output_type": "display_data"
    },
    {
     "data": {
      "text/plain": [
       "<Figure size 432x288 with 0 Axes>"
      ]
     },
     "metadata": {},
     "output_type": "display_data"
    },
    {
     "data": {
      "text/plain": [
       "<Figure size 432x288 with 0 Axes>"
      ]
     },
     "metadata": {},
     "output_type": "display_data"
    },
    {
     "data": {
      "text/plain": [
       "<Figure size 432x288 with 0 Axes>"
      ]
     },
     "metadata": {},
     "output_type": "display_data"
    },
    {
     "data": {
      "text/plain": [
       "<Figure size 432x288 with 0 Axes>"
      ]
     },
     "metadata": {},
     "output_type": "display_data"
    },
    {
     "data": {
      "text/plain": [
       "<Figure size 432x288 with 0 Axes>"
      ]
     },
     "metadata": {},
     "output_type": "display_data"
    },
    {
     "data": {
      "text/plain": [
       "<Figure size 432x288 with 0 Axes>"
      ]
     },
     "metadata": {},
     "output_type": "display_data"
    },
    {
     "data": {
      "text/plain": [
       "<Figure size 432x288 with 0 Axes>"
      ]
     },
     "metadata": {},
     "output_type": "display_data"
    },
    {
     "data": {
      "text/plain": [
       "<Figure size 432x288 with 0 Axes>"
      ]
     },
     "metadata": {},
     "output_type": "display_data"
    },
    {
     "data": {
      "text/plain": [
       "<Figure size 432x288 with 0 Axes>"
      ]
     },
     "metadata": {},
     "output_type": "display_data"
    },
    {
     "data": {
      "text/plain": [
       "<Figure size 432x288 with 0 Axes>"
      ]
     },
     "metadata": {},
     "output_type": "display_data"
    }
   ],
   "source": [
    "ratio_list = [] \n",
    "ratio_rms_list = []\n",
    "vsys_list = []\n",
    "Tex_arr = np.array([])\n",
    "matplotlib.style.use('paper')\n",
    "# physics_table = Table.read(\"physics_table_hops_def.txt\", format='ascii')\n",
    "\n",
    "# outflow_table = outflow_hops\n",
    "# name = \"hops\"\n",
    "# name = \"davis\"\n",
    "for outflow_table, name in zip([outflow_davis, outflow_hops], [\"davis\", \"hops\"]):\n",
    "    for i, row in enumerate(outflow_table):\n",
    "#         iwork=0\n",
    "#         if i != iwork:\n",
    "#             continue\n",
    "    #     davis = row[\"davis\"]\n",
    "    \n",
    "        n = row[name]\n",
    "#         if name != \"hops\" or n != 158:\n",
    "#             continue\n",
    "            \n",
    "    #     if n != 30:\n",
    "    #         continue\n",
    "\n",
    "        blue_vel, red_vel = row[\"blue_vel\"], row[\"red_vel\"]\n",
    "        tanabe = row[\"tanabe\"]\n",
    "        note = row[\"notes\"]\n",
    "        conf = row[\"outflow\"]\n",
    "        if conf == '?':\n",
    "            conf = 'M'\n",
    "        elif conf == '1':\n",
    "            conf = 'D'\n",
    "\n",
    "        if name == \"davis\":\n",
    "            davis_row = table_davis[table_davis[\"SMZ\"] == n][0]\n",
    "            coord = SkyCoord(davis_row[\"_RAJ2000\"], davis_row[\"_DEJ2000\"], unit=u.deg)\n",
    "        elif name == \"hops\":\n",
    "            hops_row = table_hops[table_hops[\"HOPS\"] == n][0]\n",
    "            coord = SkyCoord(hops_row[\"RAJ2000\"], hops_row[\"DEJ2000\"], unit=u.deg)\n",
    "\n",
    "        plot_dir = \"{}{}_plots/\".format(name, n)\n",
    "        os.makedirs(plot_dir, exist_ok=True)\n",
    "\n",
    "        # Read in the hand-drawn masks for the blue/red lobes.    \n",
    "        width = height = u.Quantity(glob.glob(\"../masks/maskroi_{}{}*.npy\".format(name, n))[0].split('_')[2])\n",
    "        try:\n",
    "            mask_blue = np.load(glob.glob(\"../masks/maskroi_{}{}_*blue.npy\".format(name, n))[0])\n",
    "            no_blue = False\n",
    "        except IndexError:\n",
    "            no_blue = True\n",
    "            mask_blue = False\n",
    "        try:       \n",
    "            mask_red = np.load(glob.glob(\"../masks/maskroi_{}{}_*red.npy\".format(name, n))[0])\n",
    "            no_red = False\n",
    "        except IndexError:\n",
    "            no_red = True\n",
    "            mask_red = False\n",
    "        try:\n",
    "            mask_full = np.load(glob.glob(\"../masks/maskroi_{}{}_*arcmin.npy\".format(name, n))[0])\n",
    "        except IndexError:\n",
    "            mask_full = mask_blue + mask_red\n",
    "\n",
    "        sub12 = extract_subcube(c12, region_class=RectangleSkyRegion,\n",
    "                          region_kwargs=dict(center=coord, width=width, height=height))\n",
    "        sub13 = extract_subcube(c13, region_class=RectangleSkyRegion,\n",
    "                            region_kwargs=dict(center=coord, width=width, height=height))\n",
    "\n",
    "        #PARSE BLUE/RED_VEL FROM TABLE\n",
    "        #     print(blue_vel, red_vel)\n",
    "        if blue_vel == '-':\n",
    "            fit_12 = extract_subcube(sub12, CircleSkyRegion,\n",
    "                                    region_kwargs={'center':coord, 'radius':15*u.arcsec})\n",
    "\n",
    "            blue_vel, red_vel = calc_linewings(fit_12, nsigma_vel=2.)\n",
    "            blue_vel, red_vel = blue_vel.to(u.km/u.s), red_vel.to(u.km/u.s)\n",
    "        #         print(blue_vel, red_vel)\n",
    "        else:\n",
    "            try:\n",
    "                blue_vel, red_vel = float(blue_vel)*u.km/u.s, float(red_vel)*u.km/u.s\n",
    "            except ValueError:\n",
    "                blue_vel, red_vel = blue_vel.strip(\"[]\").split(','), red_vel.strip(\"[]\").split(',')\n",
    "                blue_vel = [float(a) for a in blue_vel]*u.km/u.s\n",
    "                red_vel = [float(a) for a in red_vel]*u.km/u.s\n",
    "\n",
    "        print(blue_vel, red_vel)\n",
    "\n",
    "        #Calculate RMS in emission-free channels. Only consider pixels outside outflow mask.\n",
    "        rms12 = rms(sub12.with_mask(~mask_full), velocity_range=[[-2,0],[18,20]]*u.km/u.s,\n",
    "                   sigma_clipped=True)\n",
    "        rms13 = rms(sub13.with_mask(~mask_full), velocity_range=[[0,2], [16,18]]*u.km/u.s,\n",
    "                   sigma_clipped=True)\n",
    "        print(rms12, rms13)\n",
    "\n",
    "\n",
    "        #Use only the pixels with a integrated intensities > SNR set below in the \n",
    "        #visually defined velocity ranges.\n",
    "        outflow_mom0_snr = 5.\n",
    "\n",
    "        try:\n",
    "            slab_blue = sub12.spectral_slab(sub12.spectral_extrema[0], blue_vel)\n",
    "        except:\n",
    "            slab_blue = sub12.spectral_slab(blue_vel[0], blue_vel[1])\n",
    "        try:\n",
    "            slab_red = sub12.spectral_slab(red_vel, sub12.spectral_extrema[1])\n",
    "        except:\n",
    "            slab_red = sub12.spectral_slab(red_vel[0], red_vel[1])\n",
    "\n",
    "        mask_bluelobe = mask_blue & (slab_blue.moment0() > outflow_mom0_snr*sigma_mom0(slab_blue, channel_sigma=rms12))\n",
    "        mask_redlobe = mask_red & (slab_red.moment0() > outflow_mom0_snr*sigma_mom0(slab_red, channel_sigma=rms12))\n",
    "        mask_outflow = mask_bluelobe + mask_redlobe\n",
    "\n",
    "        mask12_3sig = sub12 > 3*rms12\n",
    "        mask13_3sig = sub13 > 3*rms13\n",
    "        mask12_5sig = sub12 > 5*rms12\n",
    "        mask13_5sig = sub13 > 5*rms13\n",
    "        mask12_10sig = sub12 > 10*rms12\n",
    "        mask13_10sig = sub13 > 10*rms13\n",
    "\n",
    "\n",
    "        #Calculate Tex using the peak temperature of the average 12co spectrum.\n",
    "        Tex_peak = cube_Tex(sub12.with_mask(mask_outflow), thick=True, plot=\"tex.png\", average=True, average_first=True)\n",
    "    #     !rm plot_dir\n",
    "        \n",
    "        plt.savefig(plot_dir + \"Tex.pdf\", bbox_inches='tight')\n",
    "    #     plt.show()\n",
    "        plt.clf()\n",
    "        Tex_arr = np.append(Tex_arr, Tex_peak)\n",
    "        print(Tex_peak)\n",
    "        print(name, n)"
   ]
  },
  {
   "cell_type": "code",
   "execution_count": 20,
   "metadata": {},
   "outputs": [
    {
     "data": {
      "text/plain": [
       "64.45445295288806"
      ]
     },
     "execution_count": 20,
     "metadata": {},
     "output_type": "execute_result"
    }
   ],
   "source": [
    "Tex_arr.mean()"
   ]
  },
  {
   "cell_type": "code",
   "execution_count": 28,
   "metadata": {},
   "outputs": [],
   "source": [
    "sub = c12.subcube(1000,1100,1000,1100,50,55)\n",
    "nH2_list = [column_density_H2(sub, Tex.value*u.K).sum().value for Tex in Tex_arr]"
   ]
  },
  {
   "cell_type": "code",
   "execution_count": 30,
   "metadata": {},
   "outputs": [
    {
     "data": {
      "text/plain": [
       "[0.6938321620964661,\n",
       " 0.5450814453220719,\n",
       " 0.4949162928286094,\n",
       " 0.6915632229355475,\n",
       " 0.9971709498108875,\n",
       " 1.07411949510589,\n",
       " 0.9407156134705932,\n",
       " 0.9907837336345342,\n",
       " 0.6283540216402429,\n",
       " 1.0564724789087399,\n",
       " 0.541018097065216,\n",
       " 0.5045830187713882,\n",
       " 0.6204317812898923,\n",
       " 0.5493049945583269,\n",
       " 0.5352746988638671,\n",
       " 0.5942536614653664,\n",
       " 0.6878761215039855,\n",
       " 0.6999885617892527,\n",
       " 0.7501817553475885,\n",
       " 0.7458097143084094,\n",
       " 0.8027743978810085,\n",
       " 0.8325979834655227,\n",
       " 0.7911515539770863,\n",
       " 0.7669673064861662,\n",
       " 0.771790438066444,\n",
       " 0.9133376329979717,\n",
       " 1.1512084960348044,\n",
       " 1.1784930731943,\n",
       " 1.5190820767205937,\n",
       " 0.9601555325446973,\n",
       " 1.301801178326317,\n",
       " 1.1243815377675022,\n",
       " 1.1817793679135051,\n",
       " 0.9249504929284107,\n",
       " 1.0958275585381867,\n",
       " 0.972130920406515,\n",
       " 1.065486091301749,\n",
       " 0.9338544286502453,\n",
       " 0.9288246211929363,\n",
       " 1.316584116322542,\n",
       " 1.1679209501606154,\n",
       " 1.5073653077168796,\n",
       " 0.5671021256069425,\n",
       " 0.5143907943195001,\n",
       " 0.7619671458208007]"
      ]
     },
     "execution_count": 30,
     "metadata": {},
     "output_type": "execute_result"
    }
   ],
   "source": [
    "nH2_norm = column_density_H2(sub, 50.*u.K).sum().value\n",
    "correction_factor = [nH2_norm / nH2 for nH2 in nH2_list]\n",
    "correction_factor"
   ]
  },
  {
   "cell_type": "code",
   "execution_count": null,
   "metadata": {},
   "outputs": [],
   "source": []
  }
 ],
 "metadata": {
  "kernelspec": {
   "display_name": "Python 3",
   "language": "python",
   "name": "python3"
  },
  "language_info": {
   "codemirror_mode": {
    "name": "ipython",
    "version": 3
   },
   "file_extension": ".py",
   "mimetype": "text/x-python",
   "name": "python",
   "nbconvert_exporter": "python",
   "pygments_lexer": "ipython3",
   "version": "3.7.1"
  }
 },
 "nbformat": 4,
 "nbformat_minor": 4
}
