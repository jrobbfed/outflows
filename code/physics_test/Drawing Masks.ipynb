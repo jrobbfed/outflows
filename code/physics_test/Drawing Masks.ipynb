{
 "cells": [
  {
   "cell_type": "code",
   "execution_count": 7,
   "metadata": {},
   "outputs": [],
   "source": [
    "import warnings\n",
    "warnings.filterwarnings('ignore')\n",
    "import sys\n",
    "sys.path.insert(0, \"..\")\n",
    "from stamp import *\n",
    "from physics import *\n",
    "%load_ext autoreload\n",
    "%autoreload 2\n",
    "from roipoly import RoiPoly\n",
    "%matplotlib widget"
   ]
  },
  {
   "cell_type": "code",
   "execution_count": 8,
   "metadata": {},
   "outputs": [],
   "source": [
    "table_outflow = Table.read(\"../outflow_hops.csv\", comment='#')\n",
    "table_outflow_davis = Table.read(\"../outflow_davisnohops.csv\", comment='#')\n",
    "table_hops = Table.read(\"../../catalogs/hops.fits\")\n",
    "table_davis = Table.read(\"../../catalogs/davis09_jets_without_hops.txt\", format='ascii.tab')\n",
    "outflow_def = table_outflow[table_outflow['outflow'] == '1']\n",
    "outflow_may = table_outflow[table_outflow['outflow'] == '?']\n",
    "outflow_davis = table_outflow_davis[(table_outflow_davis['outflow'] == '1') | (table_outflow_davis['outflow'] == '?')]\n",
    "# print(outflow_davis)\n",
    "# print(outflow_def)\n",
    "# print(outflow_may)\n",
    "# print(\"total number (maybe and definitely): \", np.size(outflow_davis)+np.size(outflow_def)+np.size(outflow_may))\n",
    "# print(\"total definite: \", np.size(outflow_davis[outflow_davis['outflow'] == '1']) + np.size(outflow_def))\n",
    "# print(outflow_davis.length)\n",
    "# print(np.size(outflow_def))\n",
    "# print(table_outflow)\n",
    "# print(table_outflow)\n",
    "c12 = SpectralCube.read(\"../../cubes/mask_imfit_12co_pix_2_Tmb.fits\")\n",
    "c13 = SpectralCube.read(\"../../cubes/mask_imfit_13co_pix_2_Tmb_regrid12co.fits\")\n",
    "c18 = SpectralCube.read(\"../../cubes/mask_imfit_c18o_pix_2_Tmb.fits\")"
   ]
  },
  {
   "cell_type": "code",
   "execution_count": 13,
   "metadata": {},
   "outputs": [
    {
     "name": "stderr",
     "output_type": "stream",
     "text": [
      "/Users/jesse/miniconda3/lib/python3.7/site-packages/numpy/lib/type_check.py:546: DeprecationWarning: np.asscalar(a) is deprecated since NumPy v1.16, use a.item() instead\n",
      "  'a.item() instead', DeprecationWarning, stacklevel=1)\n",
      "/Users/jesse/miniconda3/lib/python3.7/site-packages/numpy/lib/type_check.py:546: DeprecationWarning: np.asscalar(a) is deprecated since NumPy v1.16, use a.item() instead\n",
      "  'a.item() instead', DeprecationWarning, stacklevel=1)\n",
      "/Users/jesse/miniconda3/lib/python3.7/site-packages/numpy/lib/type_check.py:546: DeprecationWarning: np.asscalar(a) is deprecated since NumPy v1.16, use a.item() instead\n",
      "  'a.item() instead', DeprecationWarning, stacklevel=1)\n",
      "/Users/jesse/miniconda3/lib/python3.7/site-packages/numpy/lib/type_check.py:546: DeprecationWarning: np.asscalar(a) is deprecated since NumPy v1.16, use a.item() instead\n",
      "  'a.item() instead', DeprecationWarning, stacklevel=1)\n",
      "/Users/jesse/miniconda3/lib/python3.7/site-packages/scipy/ndimage/measurements.py:272: DeprecationWarning: In future, it will be an error for 'np.bool_' scalars to be interpreted as an index\n",
      "  return _nd_image.find_objects(input, max_label)\n",
      "/Users/jesse/miniconda3/lib/python3.7/site-packages/numpy/lib/type_check.py:546: DeprecationWarning: np.asscalar(a) is deprecated since NumPy v1.16, use a.item() instead\n",
      "  'a.item() instead', DeprecationWarning, stacklevel=1)\n",
      "/Users/jesse/miniconda3/lib/python3.7/site-packages/numpy/lib/type_check.py:546: DeprecationWarning: np.asscalar(a) is deprecated since NumPy v1.16, use a.item() instead\n",
      "  'a.item() instead', DeprecationWarning, stacklevel=1)\n",
      "/Users/jesse/miniconda3/lib/python3.7/site-packages/numpy/lib/type_check.py:546: DeprecationWarning: np.asscalar(a) is deprecated since NumPy v1.16, use a.item() instead\n",
      "  'a.item() instead', DeprecationWarning, stacklevel=1)\n",
      "/Users/jesse/miniconda3/lib/python3.7/site-packages/numpy/lib/type_check.py:546: DeprecationWarning: np.asscalar(a) is deprecated since NumPy v1.16, use a.item() instead\n",
      "  'a.item() instead', DeprecationWarning, stacklevel=1)\n",
      "/Users/jesse/miniconda3/lib/python3.7/site-packages/scipy/ndimage/measurements.py:272: DeprecationWarning: In future, it will be an error for 'np.bool_' scalars to be interpreted as an index\n",
      "  return _nd_image.find_objects(input, max_label)\n"
     ]
    },
    {
     "name": "stdout",
     "output_type": "stream",
     "text": [
      "5.0 km / s 9.5 km / s\n"
     ]
    },
    {
     "name": "stderr",
     "output_type": "stream",
     "text": [
      "/Users/jesse/miniconda3/lib/python3.7/site-packages/ipywidgets/widgets/widget.py:411: DeprecationWarning: Passing unrecoginized arguments to super(FigureCanvasNbAgg).__init__().\n",
      "__init__() missing 1 required positional argument: 'figure'\n",
      "This is deprecated in traitlets 4.2.This error will be raised in a future release of traitlets.\n",
      "  super(Widget, self).__init__(**kwargs)\n"
     ]
    },
    {
     "data": {
      "application/vnd.jupyter.widget-view+json": {
       "model_id": "adcc1d9ae9544ea4b2f1fd9fd5df6b96",
       "version_major": 2,
       "version_minor": 0
      },
      "text/plain": [
       "FigureCanvasNbAgg()"
      ]
     },
     "metadata": {},
     "output_type": "display_data"
    },
    {
     "name": "stderr",
     "output_type": "stream",
     "text": [
      "/Users/jesse/miniconda3/lib/python3.7/site-packages/numpy/lib/type_check.py:546: DeprecationWarning: np.asscalar(a) is deprecated since NumPy v1.16, use a.item() instead\n",
      "  'a.item() instead', DeprecationWarning, stacklevel=1)\n",
      "/Users/jesse/miniconda3/lib/python3.7/site-packages/numpy/lib/type_check.py:546: DeprecationWarning: np.asscalar(a) is deprecated since NumPy v1.16, use a.item() instead\n",
      "  'a.item() instead', DeprecationWarning, stacklevel=1)\n",
      "/Users/jesse/miniconda3/lib/python3.7/site-packages/numpy/lib/type_check.py:546: DeprecationWarning: np.asscalar(a) is deprecated since NumPy v1.16, use a.item() instead\n",
      "  'a.item() instead', DeprecationWarning, stacklevel=1)\n",
      "/Users/jesse/miniconda3/lib/python3.7/site-packages/numpy/lib/type_check.py:546: DeprecationWarning: np.asscalar(a) is deprecated since NumPy v1.16, use a.item() instead\n",
      "  'a.item() instead', DeprecationWarning, stacklevel=1)\n",
      "/Users/jesse/miniconda3/lib/python3.7/site-packages/scipy/ndimage/measurements.py:272: DeprecationWarning: In future, it will be an error for 'np.bool_' scalars to be interpreted as an index\n",
      "  return _nd_image.find_objects(input, max_label)\n"
     ]
    },
    {
     "name": "stdout",
     "output_type": "stream",
     "text": [
      "158\n"
     ]
    },
    {
     "name": "stderr",
     "output_type": "stream",
     "text": [
      "/Users/jesse/miniconda3/lib/python3.7/site-packages/numpy/lib/type_check.py:546: DeprecationWarning: np.asscalar(a) is deprecated since NumPy v1.16, use a.item() instead\n",
      "  'a.item() instead', DeprecationWarning, stacklevel=1)\n",
      "/Users/jesse/miniconda3/lib/python3.7/site-packages/numpy/lib/type_check.py:546: DeprecationWarning: np.asscalar(a) is deprecated since NumPy v1.16, use a.item() instead\n",
      "  'a.item() instead', DeprecationWarning, stacklevel=1)\n",
      "/Users/jesse/miniconda3/lib/python3.7/site-packages/scipy/ndimage/measurements.py:272: DeprecationWarning: In future, it will be an error for 'np.bool_' scalars to be interpreted as an index\n",
      "  return _nd_image.find_objects(input, max_label)\n"
     ]
    }
   ],
   "source": [
    "width=height=3*u.arcmin\n",
    "plt.clf()\n",
    "\n",
    "for i, row in enumerate(table_outflow):\n",
    "    if row[\"hops\"] != 158:\n",
    "        continue\n",
    "# for i, row in enumerate(outflow_davis):\n",
    "#     if i != iwork:\n",
    "#         continue\n",
    "#     davis = row[\"davis\"]\n",
    "    hops = row[\"hops\"]\n",
    "    blue_vel, red_vel = row[\"blue_vel\"], row[\"red_vel\"]\n",
    "    tanabe = row[\"tanabe\"]\n",
    "    note = row[\"notes\"]\n",
    "#     davis_row = table_davis[table_davis[\"SMZ\"] == davis][0]\n",
    "    hops_row = table_hops[table_hops[\"HOPS\"] == hops][0]\n",
    "    coord = SkyCoord(hops_row[\"RAJ2000\"], hops_row[\"DEJ2000\"], unit=u.deg)\n",
    "#     coord = SkyCoord(davis_row[\"_RAJ2000\"], davis_row[\"_DEJ2000\"], unit=u.deg)\n",
    "    \n",
    "    sub12 = extract_subcube(c12, region_class=RectangleSkyRegion,\n",
    "                      region_kwargs=dict(center=coord, width=width, height=height))\n",
    "    sub13 = extract_subcube(c12, region_class=RectangleSkyRegion,\n",
    "                      region_kwargs=dict(center=coord, width=width, height=height))\n",
    " \n",
    "    rms12 = rms(sub12, velocity_range=[[-2,0],[18,20]]*u.km/u.s, sigma_clipped=True)\n",
    "    rms13 = rms(sub13, velocity_range=[[0,2], [16,18]]*u.km/u.s)\n",
    "    #PARSE BLUE/RED_VEL FROM TABLE\n",
    "#     print(blue_vel, red_vel)\n",
    "    if blue_vel == '-':\n",
    "        fit_12 = extract_subcube(sub12, CircleSkyRegion,\n",
    "                                region_kwargs={'center':coord, 'radius':15*u.arcsec})\n",
    "        \n",
    "        blue_vel, red_vel = calc_linewings(fit_12, nsigma_vel=2.)\n",
    "        blue_vel, red_vel = blue_vel.to(u.km/u.s), red_vel.to(u.km/u.s)\n",
    "#         print(blue_vel, red_vel)\n",
    "    else:\n",
    "        try:\n",
    "            blue_vel, red_vel = float(blue_vel)*u.km/u.s, float(red_vel)*u.km/u.s\n",
    "        except ValueError:\n",
    "            blue_vel, red_vel = blue_vel.strip(\"[]\").split(','), red_vel.strip(\"[]\").split(',')\n",
    "            blue_vel = [float(a) for a in blue_vel]*u.km/u.s\n",
    "            red_vel = [float(a) for a in red_vel]*u.km/u.s\n",
    "    \n",
    "    print(blue_vel, red_vel)\n",
    "    #MAKE OUTFLOW MASKS\n",
    "    try:\n",
    "        \n",
    "        blue_slab = sub12.spectral_slab(sub12.spectral_extrema[0], blue_vel)\n",
    "        red_slab = sub12.spectral_slab(red_vel, sub12.spectral_extrema[1])\n",
    "    \n",
    "    except ValueError:\n",
    "        blue_slab = sub12.spectral_slab(blue_vel[0], blue_vel[1])\n",
    "        red_slab = sub12.spectral_slab(red_vel[0], red_vel[1])\n",
    "    \n",
    "    sigmom0_blue = sigma_mom0(blue_slab, channel_sigma=rms12)\n",
    "    sigmom0_red = sigma_mom0(red_slab, channel_sigma=rms12)\n",
    "    mask_bluelobe = blue_slab.moment0() > 10*sigmom0_blue\n",
    "    mask_redlobe = red_slab.moment0() > 10*sigmom0_red\n",
    "    \n",
    "    \n",
    "    do_fit = 0\n",
    "#     blue_vel=7*u.km/u.s\n",
    "#     red_vel=14*u.km/u.s\n",
    "    nsigma_vel = 2.\n",
    "#     blue_vel = 4.3*u.km/u.s\n",
    "#     red_vel = 10.5*u.km/u.s\n",
    "    fit_radius = 15*u.arcsec\n",
    "#     width = height = 15j*u.arcmin\n",
    "    start = 5\n",
    "    stop = 50.\n",
    "    step = 5\n",
    "    fig = plt.figure(figsize=(10,5))\n",
    "    plot_finder(c12, coord=coord,\n",
    "            fit_cube=c12, fit_radius=fit_radius,\n",
    "            nsigma_vel=nsigma_vel, blue_vel=blue_vel, red_vel=red_vel,\n",
    "            fit_spectrum=do_fit, channel_sigma=rms12,\n",
    "            region_width=width, region_height=height,\n",
    "            blue_levels=np.arange(start, stop+step, step), red_levels=np.arange(start, stop+step, step),\n",
    "            show_stamp=True, show_catalogs=True, show_spectrum=True, show_fit=do_fit,\n",
    "            show_fitcircle=False, show_vrange=True, interactive=False, show_name=False,\n",
    "            show_contour=1, show_redblue=0, show_outflows=False, redblue_mode='subtract',\n",
    "            imshow_kwargs={\"cmap\":\"RdBu_r\", \"interpolation\":\"none\"},\n",
    "            blue_contour_kwargs={'colors':'blue', 'linewidths':1, 'alpha':0.6, 'zorder':3},\n",
    "            red_contour_kwargs={'colors':'red', 'linewidths':1, 'alpha':0.6, 'zorder':3},\n",
    "            fig=fig, savefig=False, verbose=False, autoguess=True,\n",
    "            spec_label=r'$^{12}$CO', draw_roi=False,\n",
    "            catalogs=[\"/Users/jesse/repos/outflows/catalogs/hops.fits\",\n",
    "                      \"/Users/jesse/repos/outflows/catalogs/davis09_h2jets.fits\",\n",
    "                      \"/Users/jesse/repos/outflows/catalogs/spitzer_orion.fit\"],\n",
    "            catalog_kwargs=[dict(marker=\"s\", s=10, color='black', lw=1, zorder=3),\n",
    "                        dict(marker=\"+\", s=60, color='black', lw=1, zorder=3),\n",
    "                        dict(marker=\".\", s=5, color='black', lw=1, zorder=3)]\n",
    "            )\n",
    "    print(hops)\n",
    "    my_roi = RoiPoly(color='r')\n",
    "#     lt.clf()\n",
    "#     my_roi = RoiPoly(color='r')\n",
    "    ax = fig.axes[0]\n",
    "#     plt.show()\n",
    "#     ax.imshow(mask_padded+mask_big, origin='lower')\n",
    "#     ax.imshow(np.load(\"../masks/maskroi_hops{}_{}arcmin_red.npy\".format(hops, width.value)), origin='lower')\n",
    "#     plt.show()\n",
    "\n",
    "    \n",
    "#     plt.imshow(mask_bluelobe)\n",
    "#     plt.show()\n",
    "#     plt.imshow(mask_redlobe)\n",
    "#     plt.show()"
   ]
  },
  {
   "cell_type": "code",
   "execution_count": 14,
   "metadata": {},
   "outputs": [
    {
     "name": "stderr",
     "output_type": "stream",
     "text": [
      "/Users/jesse/miniconda3/lib/python3.7/site-packages/ipywidgets/widgets/widget.py:411: DeprecationWarning: Passing unrecoginized arguments to super(FigureCanvasNbAgg).__init__().\n",
      "__init__() missing 1 required positional argument: 'figure'\n",
      "This is deprecated in traitlets 4.2.This error will be raised in a future release of traitlets.\n",
      "  super(Widget, self).__init__(**kwargs)\n"
     ]
    },
    {
     "data": {
      "application/vnd.jupyter.widget-view+json": {
       "model_id": "8e3df5f65815412aa35eeffd52618c5a",
       "version_major": 2,
       "version_minor": 0
      },
      "text/plain": [
       "FigureCanvasNbAgg()"
      ]
     },
     "metadata": {},
     "output_type": "display_data"
    }
   ],
   "source": [
    "np.save(\"../masks/maskroi_hops{}_{}arcmin_red\".format(hops,width.value), my_roi.get_mask(mask_redlobe))\n",
    "\n",
    "plt.figure()\n",
    "plt.imshow(np.load(\"../masks/maskroi_hops{}_{}arcmin_red.npy\".format(hops,width.value)), origin='lower')\n",
    "plt.show()\n",
    "# plt.imshow(np.load(\"maskroi_hops78_8.0arcmin_blue.npy\")|np.load(\"maskroi_hops78_8.0arcmin_red.npy\"))"
   ]
  },
  {
   "cell_type": "code",
   "execution_count": 25,
   "metadata": {},
   "outputs": [
    {
     "name": "stderr",
     "output_type": "stream",
     "text": [
      "/Users/jesse/miniconda3/lib/python3.7/site-packages/ipywidgets/widgets/widget.py:411: DeprecationWarning: Passing unrecoginized arguments to super(FigureCanvasNbAgg).__init__().\n",
      "__init__() missing 1 required positional argument: 'figure'\n",
      "This is deprecated in traitlets 4.2.This error will be raised in a future release of traitlets.\n",
      "  super(Widget, self).__init__(**kwargs)\n"
     ]
    },
    {
     "data": {
      "application/vnd.jupyter.widget-view+json": {
       "model_id": "21c12c5dbea04d9480ae8e6a766eff96",
       "version_major": 2,
       "version_minor": 0
      },
      "text/plain": [
       "FigureCanvasNbAgg()"
      ]
     },
     "metadata": {},
     "output_type": "display_data"
    },
    {
     "name": "stdout",
     "output_type": "stream",
     "text": [
      "(60, 60)\n"
     ]
    }
   ],
   "source": [
    "import numpy as np\n",
    "import matplotlib.pyplot as plt\n",
    "mask_5arcmin = np.load(\"../masks/maskroi_hops158_3.0arcmin_blue.npy\")\n",
    "mask_5arcmin2 = np.load(\"../masks/maskroi_hops158_3.0arcmin_red.npy\")\n",
    "# mask_big = np.load(\"../masks/maskroi_hops84_17.0arcmin_red.npy\")\n",
    "# print(mask_small.shape, mask_big.shape)\n",
    "# mask_padded = np.pad(mask_small, (mask_big.shape[0] - mask_small.shape[0])//2, mode='constant', constant_values=False)\n",
    "mask_5arcmin.shape\n",
    "plt.figure()\n",
    "# plt.imshow(mask_5arcmin[10:80,10:80]+mask_5arcmin2[10:80,10:80])\n",
    "\n",
    "plt.show()\n",
    "mask_blue = mask_5arcmin[10:80, 10:80]\n",
    "mask_red = mask_5arcmin2[10:80, 10:80]\n",
    "print(mask_red.shape)\n",
    "# np.save(\"../masks/maskroi_hops158_3.0arcmin_blue.npy\", mask_blue)\n",
    "# np.save(\"../masks/maskroi_hops158_3.0arcmin_red.npy\", mask_red)\n",
    "# plt.figure()\n",
    "# plt.imshow(mask_padded, origin='lower')\n",
    "# plt.show()\n",
    "# plt.figure()\n",
    "# plt.imshow(mask_small)\n",
    "# plt.show()\n",
    "# np.save(\"../masks/maskroi_hops84_17.0arcmin_blue\", mask_padded)\n"
   ]
  },
  {
   "cell_type": "code",
   "execution_count": null,
   "metadata": {},
   "outputs": [],
   "source": []
  },
  {
   "cell_type": "code",
   "execution_count": null,
   "metadata": {},
   "outputs": [],
   "source": []
  }
 ],
 "metadata": {
  "kernelspec": {
   "display_name": "Python 3",
   "language": "python",
   "name": "python3"
  },
  "language_info": {
   "codemirror_mode": {
    "name": "ipython",
    "version": 3
   },
   "file_extension": ".py",
   "mimetype": "text/x-python",
   "name": "python",
   "nbconvert_exporter": "python",
   "pygments_lexer": "ipython3",
   "version": "3.7.1"
  }
 },
 "nbformat": 4,
 "nbformat_minor": 2
}
