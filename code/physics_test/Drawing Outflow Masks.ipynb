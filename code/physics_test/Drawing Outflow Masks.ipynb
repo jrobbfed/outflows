{
 "cells": [
  {
   "cell_type": "code",
   "execution_count": 6,
   "metadata": {},
   "outputs": [
    {
     "name": "stdout",
     "output_type": "stream",
     "text": [
      "The autoreload extension is already loaded. To reload it, use:\n",
      "  %reload_ext autoreload\n",
      "<SkyCoord (ICRS): (ra, dec) in deg\n",
      "    (84.1505, -6.6477)>\n"
     ]
    },
    {
     "data": {
      "application/vnd.jupyter.widget-view+json": {
       "model_id": "35e9e3202ecf49c8b8f03be9b2783364",
       "version_major": 2,
       "version_minor": 0
      },
      "text/plain": [
       "FigureCanvasNbAgg()"
      ]
     },
     "metadata": {},
     "output_type": "display_data"
    }
   ],
   "source": [
    "import warnings\n",
    "warnings.filterwarnings('ignore')\n",
    "import sys\n",
    "sys.path.insert(0, \"..\")\n",
    "from stamp import *\n",
    "from physics import *\n",
    "from roipoly import RoiPoly\n",
    "# %matplotlib notebook\n",
    "%matplotlib widget\n",
    "%load_ext autoreload\n",
    "%autoreload 2\n",
    "\n",
    "\n",
    "t_hops = Table.read(\"../../catalogs/hops.fits\")\n",
    "#Read in data.\n",
    "c12 = SpectralCube.read(\"../../cubes/mask_imfit_12co_pix_2_Tmb.fits\")\n",
    "c13 = SpectralCube.read(\"../../cubes/mask_imfit_13co_pix_2_Tmb_regrid12co.fits\")\n",
    "c18 = SpectralCube.read(\"../../cubes/mask_imfit_c18o_pix_2_Tmb.fits\")\n",
    "\n",
    "sig12, sig13 = 0.86*u.K, 0.64*u.K\n",
    "\n",
    "\n",
    "hops_169 = t_hops[t_hops[\"HOPS\"] == 169][0]\n",
    "coord_169 = SkyCoord(hops_169[\"RAJ2000\"], hops_169[\"DEJ2000\"], unit=u.deg)\n",
    "print(coord_169)\n",
    "hops_160 = t_hops[t_hops[\"HOPS\"] == 160][0]\n",
    "coord_160 = SkyCoord(hops_160[\"RAJ2000\"], hops_160[\"DEJ2000\"], unit=u.deg)\n",
    "\n",
    "\n",
    "do_fit = 0\n",
    "nsigma_vel = 2.\n",
    "blue_vel = 4.7*u.km/u.s\n",
    "red_vel = 10*u.km/u.s\n",
    "fit_radius = 15*u.arcsec\n",
    "width = height = 4*u.arcmin\n",
    "start = 10.\n",
    "stop = 50.\n",
    "step = 5.\n",
    "fig = plt.figure(figsize=(10,5))\n",
    "plot_finder(c12, coord=coord_169,\n",
    "            fit_cube=c12, fit_radius=fit_radius,\n",
    "            nsigma_vel=nsigma_vel, blue_vel=blue_vel, red_vel=red_vel,\n",
    "            fit_spectrum=do_fit, channel_sigma=sig12,\n",
    "            region_width=width, region_height=height,\n",
    "            blue_levels=np.arange(start, stop+step, step), red_levels=np.arange(start, stop+step, step),\n",
    "            show_stamp=True, show_catalogs=True, show_spectrum=True, show_fit=do_fit,\n",
    "            show_fitcircle=False, show_vrange=True, interactive=False, show_name=False,\n",
    "            show_contour=1, show_redblue=0, show_outflows=False, redblue_mode='subtract',\n",
    "            imshow_kwargs={\"cmap\":\"RdBu_r\", \"interpolation\":\"none\"},\n",
    "            blue_contour_kwargs={'colors':'blue', 'linewidths':1, 'alpha':0.6, 'zorder':3},\n",
    "            red_contour_kwargs={'colors':'red', 'linewidths':1, 'alpha':0.6, 'zorder':3},\n",
    "            fig=fig, savefig=False, verbose=False, autoguess=True,\n",
    "            spec_label=r'$^{12}$CO'\n",
    "            )\n",
    "\n",
    "sub12 = extract_subcube(c12, RectangleSkyRegion,\n",
    "        region_kwargs=dict(center=coord_169, width=width, height=height))\n",
    "\n",
    "my_roi = RoiPoly(color='r')\n",
    "\n"
   ]
  },
  {
   "cell_type": "code",
   "execution_count": 18,
   "metadata": {},
   "outputs": [],
   "source": [
    "mask = my_roi.get_mask(sub12.moment0())\n",
    "np.save(\"test_mask\", mask)"
   ]
  },
  {
   "cell_type": "code",
   "execution_count": 19,
   "metadata": {},
   "outputs": [
    {
     "data": {
      "application/vnd.jupyter.widget-view+json": {
       "model_id": "0a34e8149a7e46b196c25bc2694b03bf",
       "version_major": 2,
       "version_minor": 0
      },
      "text/plain": [
       "FigureCanvasNbAgg()"
      ]
     },
     "metadata": {},
     "output_type": "display_data"
    }
   ],
   "source": [
    "fig = plt.figure()\n",
    "plt.imshow(mask, origin='lower')\n",
    "plt.show()\n"
   ]
  },
  {
   "cell_type": "code",
   "execution_count": null,
   "metadata": {},
   "outputs": [],
   "source": []
  }
 ],
 "metadata": {
  "kernelspec": {
   "display_name": "Python 3",
   "language": "python",
   "name": "python3"
  },
  "language_info": {
   "codemirror_mode": {
    "name": "ipython",
    "version": 3
   },
   "file_extension": ".py",
   "mimetype": "text/x-python",
   "name": "python",
   "nbconvert_exporter": "python",
   "pygments_lexer": "ipython3",
   "version": "3.7.1"
  }
 },
 "nbformat": 4,
 "nbformat_minor": 2
}
