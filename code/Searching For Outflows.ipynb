{
 "cells": [
  {
   "cell_type": "code",
   "execution_count": 20,
   "metadata": {},
   "outputs": [
    {
     "data": {
      "text/html": [
       "<i>Table masked=True length=31</i>\n",
       "<table id=\"table4792337296-919574\" class=\"table-striped table-bordered table-condensed\">\n",
       "<thead><tr><th>idx</th><th>davis</th><th>outflow</th><th>blue_vel</th><th>red_vel</th><th>tanabe</th><th>notes</th></tr></thead>\n",
       "<tr><td>0</td><td>2</td><td>?</td><td>--</td><td>--</td><td>2</td><td>Arc-like feature around the disk source IRS 2 (Spitzer Orion 2450). Tanabe assigns the CO outflow here to this source, their Outflow 2. But I think it&apos;s more likely this H2 outflow is driven by HOPS 383, the protostar to the NW, based on the CO morphology.</td></tr>\n",
       "<tr><td>1</td><td>8</td><td>0</td><td>9.0</td><td>13.5</td><td>--</td><td>The davis H2 flow (SMZ 8) is a faint bow-shaped H2 nebulosity at this location. The proper motion of three knots in the bow shock are not consistent. No clear source for this H2 flow and no CO counterpart.</td></tr>\n",
       "<tr><td>2</td><td>11</td><td>1</td><td>--</td><td>--</td><td>9</td><td>This H2 flow is a curved chain of H2 knots. The location of SMZ12 is the putative source (Spitzer Orion 2345) located midway along this chain of H2 knots.Tanabe identfies CO outflow 9 as the blue lobe to the NW. However, the position angle incorrectly recorded in Tanabe Table 5, it should be 160 degrees, not 20 degrees. There is also a red lobe of emission to the SE which is not included in this outflow by Tanabe. This is assumed to be part of Outflow 11.</td></tr>\n",
       "<tr><td>3</td><td>17</td><td>1</td><td>3.0</td><td>18.0</td><td>--</td><td>NEW CO OUTFLOW. This flow is the H2 jet/bow shocks extending NE of the cluster. Davis gives this location as the putative source (Spitzer Orion 2293). There is a ton of CO emission in this area. The red/blue CO emission overlapping the H2 structures in SMZ 17 to the NE are assigned to Outflow 13 by Tanabe, driven by the HOPS protostar 370 just to the NE of this source. This source is located just between two red/blue local maxima of CO emission, which looks like it could be a new very small scale outflow. Both red/blue emission extends to the spectral extrema of the cube. To better see the distinction of this CO outflow from the larger one to the NE, it helps to use very extreme velocity ranges for integrating the cube. At blue = 3 km/s and red = 18 km/s, the two outflows are completely distinct. See entry for HOPS 370 for more detail.</td></tr>\n",
       "<tr><td>4</td><td>18</td><td>?</td><td>8.6</td><td>13.3</td><td>--</td><td>SMZ 18 marks position of H2 bullet near the main body of the H2 flow SMZ 17 (see SMZ 17 entry). SMZ 18 is probably part of the same flow, but Davis et al. mention it may be another flow seen in projection, mainly based on the dubious proper motion of the main know in SMZ 18. Assuming SMZ 18 goes with SMZ 17, the source and CO counterpart (Outflow 13) to this flow is discussed in the entries under HOPS 370 and SMZ 17. If we take the proper motion of this H2 bullet at face value, it points directly at a bow-shaped redshifted structure in CO about an arcminute to the E. No blue counterpart to this CO feature, so it&apos;s unclear.</td></tr>\n",
       "<tr><td>5</td><td>20</td><td>0</td><td>--</td><td>--</td><td>--</td><td>Location is the putative source of SMZ 20: disk-source Spitzer Orion 2296. But there is also a red source to the north of this star which is in neither spitzer orion nor hops catalog which may be the driver of this H2 flow. In any case, there&apos;s no evidence of a CO outflow here.</td></tr>\n",
       "<tr><td>6</td><td>21</td><td>?</td><td>8.0</td><td>14.0</td><td>15</td><td>Together with SMZ 22, chain of H2 knots wth proper motions to the south of this source - disk-excess Spitzer Orion 2274. Tanabe classifies the red CO lobe to the south as Outflow 15, this CO is roughly coincident with some of the H2 emission. More uncertain is the redshifted emission closer to the source. This is also oriented in the same direction (South) as the H2 flow, but Tanabe assigns this emission to the E-W outflow 16 driven by HOPS 60.</td></tr>\n",
       "<tr><td>7</td><td>26</td><td>?</td><td>4.5</td><td>11.5</td><td>--</td><td>This H2 flow is inside the Huygens region of the nebula, about 1.4 arcminutes West of the Trapezium. Davis et al. was unable to identify an outflow source because of the bright emission associated with this region. The H2 flow, SMZ 26, extends NW from RA = 5:35:11 to 5:35:03 and DEC = -5:23:15 to -5:21:51. In CO, there is a ton of confusion here. Some redshifted emission is coincident with the first knot in the H2 flow, whose position is marked by SMZ26. There is a linear blueshifted feature with possible red CO counterflow SW of SMZ 26. No clear CO outflow corresponds to SMZ 26.</td></tr>\n",
       "<tr><td>8</td><td>27</td><td>?</td><td>2.8</td><td>11.8</td><td>--</td><td>SMZ 27 marks a short colllimated H2 jet oriented SE-NW just south of SMZ 26, west of Trapezium. IN CO, there is a short bipolar red/blue apparent outflow oriented EW centered just a few arcseconds to the W of this H2 jet. It&apos;s unclear what relation this CO has to the H2 flows.</td></tr>\n",
       "<tr><td>9</td><td>28</td><td>?</td><td>4.5</td><td>11.5</td><td>--</td><td>smz 28 is an EW directed H2 flow in the same vicinity as 26/27, W of the trapezium, among the OMC1 fingers. Again, no obvious CO counterpart to this flow, but enough high-velocity CO in the area to keep this a potential outflow source of interest.</td></tr>\n",
       "<tr><td>10</td><td>30</td><td>?</td><td>4.5</td><td>14.0</td><td>20</td><td>SMZ 30 is a tentative H2 flow consisting of two very faint H2 knots located N and S of the putative source, disk-star Spitzer Orion 1505. This identification is backed up by the VISTA NIR image, which shows nebulosity around this star which looks like a bipolar outflow cavity in the same direction as the H2 knots. Tanabe catalogues their Outflow 20 here, assigning the blueshifted emission surrounding this source to the outflow, with no corresponding red lobe. The CO outflow is unclear.</td></tr>\n",
       "<tr><td>11</td><td>32</td><td>0</td><td>5.6</td><td>11.0</td><td>--</td><td>SMZ 32 is an uncertain grouping of 3 h2 knots in a N-S chain in OMC4. Davis et al. report proper motions for these knots, which are uncertain but tentatively suggest they are moving in the N-S direction. Neither Stanke02 nor Davis09 are clear on the source of this flow. The northern 2 knots are also identified as MHO 60 in Davis&apos;s catalog, while the sourthern knot is MHO 62. In CO: No CO suggesting an outflow in this region.</td></tr>\n",
       "<tr><td>12</td><td>33</td><td>?</td><td>5.3</td><td>11.4</td><td>--</td><td>SMZ 33 consists of two H2 knots anchoring a faint diffuse linear H2 feature connecting them, oriented SE-NW. The putative source for this H2 outflow is the disk-source Spitzer Orion 1295, but Davis et al. is not at all certain in this. Maybe HOPS 29 to the W, with its wide-angle nebulosity in the NIR, has something to do with these H2 knots? In CO, there is not much high-velocity emission around. A bit of redshifted CO in the vicinity, MAY be CO counterpart to this flow, but very dubious.</td></tr>\n",
       "<tr><td>13</td><td>34</td><td>?</td><td>5.5</td><td>11.0</td><td>--</td><td>Two H2 knots grouped together in OMC 4, also named MHO 65. No driving source identified for this putatitive H2 jet. In CO, there are multiple velocity components here, and this is near the edge of a large pillar being shaped by the UV field from the north. No clear outflow can be detected in CO.</td></tr>\n",
       "<tr><td>14</td><td>36</td><td>?</td><td>8.0</td><td>10.7</td><td>--</td><td>Cluster of H2 knots, with uncertain and heterogenous proper motions from Davis et al. No source apparent. In CO: there is a linear feature extending NE-SW at ~ 7 km/s. And, some redshifted CO on either side of the H2 knots from 10-12 km/s.</td></tr>\n",
       "<tr><td>15</td><td>44</td><td>?</td><td>6.0</td><td>11.0</td><td>30</td><td>Location for this source is incorrect in Davis catalog. SMZ 44 is the bowshock seen in H2, which is assigned to Spitzer Orion 1014 disk-source by Davis et al. The location of SMZ 44 should either be at this bow shock, located at approx. 5:35:45, -6:12:45 or at the putative source, Spitzer Orion 1014 at 5:35:42, -6:11:43. In CO, there is some redshifted emission to the SE of the star in the vicinity of the bow shock. I&apos;m skeptical of Tanabe&apos;s assignment of the CO emission here.</td></tr>\n",
       "<tr><td>16</td><td>47</td><td>0</td><td>7.2</td><td>10.9</td><td>--</td><td>This H2 flow is a faint chain of knots extending SE-NW to NW of L1641-N. No source is identified.</td></tr>\n",
       "<tr><td>17</td><td>48</td><td>0</td><td>5.5</td><td>11.5</td><td>--</td><td>SMZ 48 is a chain of H2 knots oriented NE-SW to the NW of L1641-N, so most likely unrelated to the cluster. No source identified by Davis et al, but the H2 jet is near the star Parenago 2354, which is not in the Spitzer Orion catalog.</td></tr>\n",
       "<tr><td>18</td><td>50</td><td>?</td><td>4.5</td><td>11.5</td><td>33</td><td>SMZ50 is a chain of N-S H2 knots near the disk-source Spitzer Orion 939, to the W of L1641-N. Davis et al. tentatively identifies this IRS source as the drive of this flow, so the location of SMZ 50 is the location of Spitzer Orion 939. In CO, Tanabe identifies the small patch of blueshifted emission to the North as Outflow 33, a dubious assertion.</td></tr>\n",
       "<tr><td>19</td><td>52</td><td>0</td><td>--</td><td>--</td><td>--</td><td>SMZ 52 is a faint arc of H2 to the E of L1641-N. Maybe an extension of DFS 115 to the SW (see HOPS 173/174 for that flow).</td></tr>\n",
       "<tr><td>20</td><td>54</td><td>?</td><td>4.8</td><td>11.5</td><td>--</td><td>AKA MHO 104. SMZ 54 is a chain of H2 knots stretching SE from L1641-N with a bowshock at the far end, about 5 arcminutes SE from the core of the cluster. No source was identified by Davis et al. for this flow. The location of SMZ 54 marks perhaps the brightest knot in the flow, NW of the bow shock, which is marked by the location of MHO 104. The flow DFS 115 has an H2 feature cutting orthogonally across the SMZ 54 flow, most likely driven by HOPS 174 (see entry). In CO: Not really any evidence of a CO outflow here, unless we consider the giant blueshifted feature to the SE of L1641-N as a giant blue lobe of an outflow.</td></tr>\n",
       "<tr><td>21</td><td>57</td><td>0</td><td>5.5</td><td>10.5</td><td>--</td><td>SMZ 57 AKA MHO 107. There is an optical HH object seen easily in H-alpha which appears to be a bipolar jet centered on the disk-source Spitzer Orion 847 AKA BE Ori. In Davis et al, SMZ 57 is a series of H2 knots with no obvious source, so the location of SMZ 57 is centered on the small bow shock. But if SMZ 57 is the H2 counterpart to the optical HH 292, then the source seems most likely to be BE Ori. In CO: No CO counterpart evident.</td></tr>\n",
       "<tr><td>22</td><td>60</td><td>?</td><td>5.4</td><td>11.5</td><td>--</td><td>SMZ 60 AKA MHO 113, optical counterpart is HH35, which has a distinct bow-shaped morphology strongly suggesting a flow originating from Herbig Be star V380 Ori to the SE. This flow is supposed by Stanke et al. 2010 to be responsible for shaping part of the cavity near V380 Ori (the so-called hole in the sky). Stanke et al. 2010 propose that SMZ 60 / HH 35 / MHO 113 has a counterflow SE of V380 Ori seen as the H2 knot SMZ 6-8 AKA MHO 118. This would represent a bipolar flor SE-NW driven by the V380 Ori system. Further extending this flow, Reipurth et al. 2013 argue that the HH 222 Orion Streamers region is a giant bow shock with proper motion away from the V380 Ori system. In the counterflow direction, to the SE, they newly identify HH 1041, a faint bow-shaped nebulosity. The total projected extend of this flow is then at least 5.3 pc, from HH 1041 in the SE, through the H2 knot SMZ 6-8 / MHO 118 just SE of V380 Ori, through SMZ 60 / HH 35 / MHO 113 just NW of V380 Ori, all the way to the Orion Streamer bow shock HH 222. This makes it one of the longest known outflows. They speculate that a dynamical interaction among the quadruple V380 Ori system triggered this outflow less than 28,000 years ago, based on the proper motion of HH 222. In CO, the redshifted cauliflower or hot-air-balloon shaped CO structure is here, surrounding V380 Ori. SMZ 60 is just at the NW edge of this redshifted structure. It&apos;s unclear if there is any larger scale CO flow associated with the giant HH outflow.</td></tr>\n",
       "<tr><td>23</td><td>62</td><td>?</td><td>6.3</td><td>10.5</td><td>--</td><td>SMZ 62 is listed by Stanke et al. 2002 as most likely to be part of the HH 1/2 flow, but could be a seperate jet. HH3 is the optical nebulosity here. So this is either a bow shock associated with the HH 1/2 flow to the SE or a separate small flow, but it&apos;s unclear if there is a star here or just nebulosity. In CO, there is a small linear feature extending to the W at about 10.5 km/s. No evidence of blue counterflow.</td></tr>\n",
       "<tr><td>24</td><td>65</td><td>0</td><td>4.8</td><td>12.6</td><td>--</td><td>SMZ 65 / MHO 124 / HH 144 is a series of knots and bow shocks aligned EW to the W of HH 1/2 VLA2 (the binary companion of the source of the HH 1/2 flow, HH 1/2 VLA1). No evidence for any EW oriented CO in this flow.</td></tr>\n",
       "<tr><td>25</td><td>102</td><td>0</td><td>--</td><td>--</td><td>--</td><td>DFS 102 is the H2 counterpart to the bright bow shock HH 42. The morphology of both optical and H2 emission points to the putative source 2.4 arcminutes to the W. The H2 flow, DFS 102 is thus positioned by Davis et al. 2009 (Figure A.1.C) at this young star, the protostar Spitzer Orion 2393. In CO, no counterpart.</td></tr>\n",
       "<tr><td>26</td><td>112</td><td>0</td><td>7.0</td><td>12.0</td><td>--</td><td>DFS 112 marks the location of the putative source (protostar Spitzer Orion 1246) of this flow, a bow shock with several knots to the SE, marked by MHO 175. No CO counterpart to this dubious outflow.</td></tr>\n",
       "<tr><td>27</td><td>116</td><td>0</td><td>5.5</td><td>10.0</td><td>--</td><td>DFS 116 / MHO 177,178 / HH 33,40 is complex of H2 and optical shocks and knots. It looks like two lobes of a small bipolar flow, but many authors, starting with Bally and Devine 1994 and Devine 1997 argue that these structures are part of the northern bow shock of the counterflow from HH 34 to the south. Davis et al. 2009 argue instead that HH 33,40 are powered by a Spitzer source inside of the HH 40 nebulosity. This is where DFS 116 is located, as the putative source of this separate molecular flow. Is the HH 33/40/DFS116 flow the northern extreme of a giant HH 34 flow or a completely separate flow powered by an elusive young star located near HH 40? I don&apos;t find any CO counterpart to this flow.</td></tr>\n",
       "<tr><td>28</td><td>120</td><td>0</td><td>4.5</td><td>8.0</td><td>--</td><td>DFS 120 / MHO 184 consists of two faint H2 knots. No CO outflow.</td></tr>\n",
       "<tr><td>29</td><td>123</td><td>?</td><td>5.0</td><td>9.5</td><td>--</td><td>DFS 123 is a specactular H2 flow with NO optical HH counterpart. Classified as MHO 187-189. The flow seen in Davis et al. 2009 Figure A.5, extends over at least 8.5 arcminutes in H2. Davis et al. could not identify a candidate driving source. DFS 123 marks the location of the brightest H2, the knotty bow shock on the E end of the flow. The source of this flow could be HOPS 355, a highly embedded class 0 protostar located near the middle of the flow. This seems like the only candidate. See HOPS355 figure and catalog entry for more info about this potential new CO outflow. There is both red and blue CO on both sides of the putative source in a broad EW filamentary structure.</td></tr>\n",
       "<tr><td>30</td><td>124</td><td>1</td><td>5.0</td><td>9.5</td><td>44</td><td>DFS 124 is a bow shock of several knots, S of HH 1/2, with proper motions that suggest it might be an extension of the HH1 flow, Though the orientation doesn&apos;t seem quite right compared to HH 1 to the North. Instead, Davis et al. assign this H2 flow to the young star &lt; 1 arcminute to the NW, Spitzer Orion 747 (flat protostar class). In CO: There is a giant redshifted lobe of CO, part of which is well traced by these H2 knots, but the scale of the CO dwarfs the supposed scale of a small outflow from the nearby young star. There is some blueshifted CO to the NE as well. All of this high velocity emission is assigned to the new outflow 44 by Tanabe, but the red/blue morphology is very strange. Zooming out, the red CO structure appears connected to the HH 1/2 or V380 Ori regions to the north. Perhaps this is the counterflow to the cauliflower structure around V380 Ori? Or another outflow from HH 1/2? What the heck is going on here?</td></tr>\n",
       "</table><style>table.dataTable {clear: both; width: auto !important; margin: 0 !important;}\n",
       ".dataTables_info, .dataTables_length, .dataTables_filter, .dataTables_paginate{\n",
       "display: inline-block; margin-right: 1em; }\n",
       ".paginate_button { margin-right: 5px; }\n",
       "</style>\n",
       "<script>\n",
       "\n",
       "var astropy_sort_num = function(a, b) {\n",
       "    var a_num = parseFloat(a);\n",
       "    var b_num = parseFloat(b);\n",
       "\n",
       "    if (isNaN(a_num) && isNaN(b_num))\n",
       "        return ((a < b) ? -1 : ((a > b) ? 1 : 0));\n",
       "    else if (!isNaN(a_num) && !isNaN(b_num))\n",
       "        return ((a_num < b_num) ? -1 : ((a_num > b_num) ? 1 : 0));\n",
       "    else\n",
       "        return isNaN(a_num) ? -1 : 1;\n",
       "}\n",
       "\n",
       "require.config({paths: {\n",
       "    datatables: 'https://cdn.datatables.net/1.10.12/js/jquery.dataTables.min'\n",
       "}});\n",
       "require([\"datatables\"], function(){\n",
       "    console.log(\"$('#table4792337296-919574').dataTable()\");\n",
       "    \n",
       "jQuery.extend( jQuery.fn.dataTableExt.oSort, {\n",
       "    \"optionalnum-asc\": astropy_sort_num,\n",
       "    \"optionalnum-desc\": function (a,b) { return -astropy_sort_num(a, b); }\n",
       "});\n",
       "\n",
       "    $('#table4792337296-919574').dataTable({\n",
       "        order: [],\n",
       "        pageLength: 50,\n",
       "        lengthMenu: [[10, 25, 50, 100, 500, 1000, -1], [10, 25, 50, 100, 500, 1000, 'All']],\n",
       "        pagingType: \"full_numbers\",\n",
       "        columnDefs: [{targets: [0, 1, 3, 4, 5], type: \"optionalnum\"}]\n",
       "    });\n",
       "});\n",
       "</script>\n"
      ],
      "text/plain": [
       "<IPython.core.display.HTML object>"
      ]
     },
     "execution_count": 20,
     "metadata": {},
     "output_type": "execute_result"
    }
   ],
   "source": [
    "from astropy.table import Table\n",
    "tab_outflow_hops = Table.read(\"outflow_hops.csv\", comment='#', fill_values=[('-', '0'), ('', '0')])\n",
    "tab_outflow_davis_nohops = Table.read(\"outflow_davisnohops.csv\", comment='#', fill_values=[('-', '0'), ('', '0')])\n",
    "tab_outflow_davis_nohops.show_in_notebook()"
   ]
  },
  {
   "cell_type": "code",
   "execution_count": 17,
   "metadata": {},
   "outputs": [
    {
     "name": "stdout",
     "output_type": "stream",
     "text": [
      "tanabe\n",
      "------\n",
      "    27\n",
      "    26\n",
      "    25\n",
      "    --\n",
      "    --\n",
      "    --\n",
      "    --\n",
      "    24\n",
      "    --\n",
      "    --\n",
      "   ...\n",
      "    14\n",
      "    --\n",
      "    13\n",
      "    --\n",
      "    --\n",
      "    --\n",
      "    --\n",
      "    --\n",
      "    --\n",
      "    --\n",
      "    --\n",
      "Length = 122 rows\n"
     ]
    }
   ],
   "source": [
    "print(tab['tanabe'])"
   ]
  },
  {
   "cell_type": "code",
   "execution_count": null,
   "metadata": {},
   "outputs": [],
   "source": []
  }
 ],
 "metadata": {
  "kernelspec": {
   "display_name": "Python 3",
   "language": "python",
   "name": "python3"
  },
  "language_info": {
   "codemirror_mode": {
    "name": "ipython",
    "version": 3
   },
   "file_extension": ".py",
   "mimetype": "text/x-python",
   "name": "python",
   "nbconvert_exporter": "python",
   "pygments_lexer": "ipython3",
   "version": "3.7.1"
  }
 },
 "nbformat": 4,
 "nbformat_minor": 2
}
